{
  "nbformat": 4,
  "nbformat_minor": 0,
  "metadata": {
    "colab": {
      "name": "Random Survival Forest.ipynb",
      "provenance": [],
      "collapsed_sections": [],
      "authorship_tag": "ABX9TyNApezY2yH4r/zY2FUHo4fR",
      "include_colab_link": true
    },
    "kernelspec": {
      "name": "python3",
      "display_name": "Python 3"
    },
    "language_info": {
      "name": "python"
    }
  },
  "cells": [
    {
      "cell_type": "markdown",
      "metadata": {
        "id": "view-in-github",
        "colab_type": "text"
      },
      "source": [
        "<a href=\"https://colab.research.google.com/github/yuvrajiro2outlook/firstgitrepo/blob/master/Random_Survival_Forest.ipynb\" target=\"_parent\"><img src=\"https://colab.research.google.com/assets/colab-badge.svg\" alt=\"Open In Colab\"/></a>"
      ]
    },
    {
      "cell_type": "code",
      "metadata": {
        "colab": {
          "base_uri": "https://localhost:8080/"
        },
        "id": "0JhTXSpdx1Wn",
        "outputId": "9d6d78b5-ba89-4b7a-e73e-e3270af02a6c"
      },
      "source": [
        "pip install lifelines"
      ],
      "execution_count": 2,
      "outputs": [
        {
          "output_type": "stream",
          "text": [
            "Collecting lifelines\n",
            "\u001b[?25l  Downloading https://files.pythonhosted.org/packages/50/ba/d010b22c8bcdfe3bbba753bd976f5deddfa4ec1c842b991579e9c2c3cd61/lifelines-0.26.0-py3-none-any.whl (348kB)\n",
            "\u001b[K     |████████████████████████████████| 358kB 5.1MB/s \n",
            "\u001b[?25hCollecting autograd-gamma>=0.3\n",
            "  Downloading https://files.pythonhosted.org/packages/85/ae/7f2031ea76140444b2453fa139041e5afd4a09fc5300cfefeb1103291f80/autograd-gamma-0.5.0.tar.gz\n",
            "Collecting formulaic<0.3,>=0.2.2\n",
            "\u001b[?25l  Downloading https://files.pythonhosted.org/packages/02/64/6702b5cadc89ece93af2e01996504f3a895196354a35713e2ef22f089d3e/formulaic-0.2.3-py3-none-any.whl (55kB)\n",
            "\u001b[K     |████████████████████████████████| 61kB 7.3MB/s \n",
            "\u001b[?25hRequirement already satisfied: scipy>=1.2.0 in /usr/local/lib/python3.7/dist-packages (from lifelines) (1.4.1)\n",
            "Requirement already satisfied: pandas>=0.23.0 in /usr/local/lib/python3.7/dist-packages (from lifelines) (1.1.5)\n",
            "Requirement already satisfied: autograd>=1.3 in /usr/local/lib/python3.7/dist-packages (from lifelines) (1.3)\n",
            "Requirement already satisfied: numpy>=1.14.0 in /usr/local/lib/python3.7/dist-packages (from lifelines) (1.19.5)\n",
            "Requirement already satisfied: matplotlib>=3.0 in /usr/local/lib/python3.7/dist-packages (from lifelines) (3.2.2)\n",
            "Requirement already satisfied: wrapt in /usr/local/lib/python3.7/dist-packages (from formulaic<0.3,>=0.2.2->lifelines) (1.12.1)\n",
            "Collecting interface-meta>=1.2\n",
            "  Downloading https://files.pythonhosted.org/packages/71/31/5e474208f5df9012ebecfaa23884b14f93671ea4f4f6d468eb096b73e499/interface_meta-1.2.3-py2.py3-none-any.whl\n",
            "Requirement already satisfied: astor in /usr/local/lib/python3.7/dist-packages (from formulaic<0.3,>=0.2.2->lifelines) (0.8.1)\n",
            "Requirement already satisfied: pytz>=2017.2 in /usr/local/lib/python3.7/dist-packages (from pandas>=0.23.0->lifelines) (2018.9)\n",
            "Requirement already satisfied: python-dateutil>=2.7.3 in /usr/local/lib/python3.7/dist-packages (from pandas>=0.23.0->lifelines) (2.8.1)\n",
            "Requirement already satisfied: future>=0.15.2 in /usr/local/lib/python3.7/dist-packages (from autograd>=1.3->lifelines) (0.16.0)\n",
            "Requirement already satisfied: cycler>=0.10 in /usr/local/lib/python3.7/dist-packages (from matplotlib>=3.0->lifelines) (0.10.0)\n",
            "Requirement already satisfied: pyparsing!=2.0.4,!=2.1.2,!=2.1.6,>=2.0.1 in /usr/local/lib/python3.7/dist-packages (from matplotlib>=3.0->lifelines) (2.4.7)\n",
            "Requirement already satisfied: kiwisolver>=1.0.1 in /usr/local/lib/python3.7/dist-packages (from matplotlib>=3.0->lifelines) (1.3.1)\n",
            "Requirement already satisfied: six>=1.5 in /usr/local/lib/python3.7/dist-packages (from python-dateutil>=2.7.3->pandas>=0.23.0->lifelines) (1.15.0)\n",
            "Building wheels for collected packages: autograd-gamma\n",
            "  Building wheel for autograd-gamma (setup.py) ... \u001b[?25l\u001b[?25hdone\n",
            "  Created wheel for autograd-gamma: filename=autograd_gamma-0.5.0-cp37-none-any.whl size=4050 sha256=6517ead64c41fbede34dd985b20309156fd4d2dec39d242f4363da048cbc31c0\n",
            "  Stored in directory: /root/.cache/pip/wheels/dc/68/dc/91321c55fba449755524481854f5be70d41912b8f886f908bb\n",
            "Successfully built autograd-gamma\n",
            "Installing collected packages: autograd-gamma, interface-meta, formulaic, lifelines\n",
            "Successfully installed autograd-gamma-0.5.0 formulaic-0.2.3 interface-meta-1.2.3 lifelines-0.26.0\n"
          ],
          "name": "stdout"
        }
      ]
    },
    {
      "cell_type": "code",
      "metadata": {
        "id": "JsljcM3GsYs7"
      },
      "source": [
        "import pandas as pd\n",
        "import numpy as np\n",
        "from lifelines import NelsonAalenFitter\n",
        "from lifelines.statistics import logrank_test\n",
        "from itertools import combinations\n",
        "from joblib import Parallel, delayed\n"
      ],
      "execution_count": 70,
      "outputs": []
    },
    {
      "cell_type": "markdown",
      "metadata": {
        "id": "Zqvo55WAoroU"
      },
      "source": [
        "## Node"
      ]
    },
    {
      "cell_type": "code",
      "metadata": {
        "id": "2y5ZpszpoX16"
      },
      "source": [
        "class Node:\n",
        "\n",
        "    def __init__(self, x, y, tree, f_idxs, unique_deaths=3, min_leaf=3, timeline=None):\n",
        "        \"\"\"\n",
        "        A Node of the Survival Tree.\n",
        "        :param x: The input samples. Should be a Dataframe with the shape [n_samples, n_features].\n",
        "        :param y: The target values as a Dataframe with the survival time in the first column and the event.\n",
        "        :param tree: The corresponding Survival Tree\n",
        "        :param f_idxs: The indices of the features to use.\n",
        "        :param n_features: The number of features to use.\n",
        "        :param unique_deaths: The minimum number of unique deaths required to be at a leaf node.\n",
        "        :param min_leaf: The minimum number of samples required to be at a leaf node. A split point at any depth will\n",
        "        only be considered if it leaves at least min_leaf training samples in each of the left and right branches.\n",
        "        \"\"\"\n",
        "        self.x = x\n",
        "        self.y = y\n",
        "        self.tree = tree\n",
        "        self.f_idxs = f_idxs\n",
        "        self.unique_deaths = unique_deaths\n",
        "        self.min_leaf = min_leaf\n",
        "        self.score = 0\n",
        "        self.split_val = None\n",
        "        self.split_var = None\n",
        "        self.lhs = None\n",
        "        self.rhs = None\n",
        "        self.chf = None\n",
        "        self.chf_terminal = None\n",
        "        self.terminal = False\n",
        "        self.timeline = timeline\n",
        "        self.grow_tree()\n",
        "\n",
        "    def grow_tree(self):\n",
        "        \"\"\"\n",
        "        Grow tree by calculating the Nodes recursively.\n",
        "        :return: self\n",
        "        \"\"\"\n",
        "        unique_deaths = np.sum(np.unique(self.y , axis = 0) , axis = 0)[1]\n",
        "\n",
        "        if unique_deaths <= self.unique_deaths:\n",
        "            self.compute_terminal_node()\n",
        "            return self\n",
        "\n",
        "        self.score, self.split_val, self.split_var, lhs_idxs_opt, rhs_idxs_opt = find_split(self)\n",
        "\n",
        "        if self.split_var is None:\n",
        "            self.compute_terminal_node()\n",
        "            return self\n",
        "        number_of_cols     = np.shape(self.x)[1]\n",
        "        number_of_features = np.arange(np.int(np.ceil(np.sqrt(number_of_cols))))\n",
        "        lf_idxs = np.random.permutation(number_of_cols)[number_of_features]\n",
        "        rf_idxs = np.random.permutation(number_of_cols)[number_of_features]\n",
        "\n",
        "\n",
        "        # Check Later whether lf_idxs or rf_idxs are necessary to pass since the\n",
        "        # we are calculating feature index once again in this function\n",
        "\n",
        "        self.lhs = Node(self.x[lhs_idxs_opt, :], self.y[lhs_idxs_opt, :], self.tree, lf_idxs,\n",
        "                         min_leaf=self.min_leaf, timeline=self.timeline)\n",
        "\n",
        "        self.rhs = Node(self.x[rhs_idxs_opt, :], self.y[rhs_idxs_opt, :], self.tree, rf_idxs,\n",
        "                         min_leaf=self.min_leaf, timeline=self.timeline)\n",
        "\n",
        "        return self\n",
        "\n",
        "    def compute_terminal_node(self):\n",
        "        \"\"\"\n",
        "        Compute the terminal node if condition has reached.\n",
        "        :return: self\n",
        "        \"\"\"\n",
        "        self.terminal = True\n",
        "        self.chf = NelsonAalenFitter()\n",
        "        t = self.y[:, 0]    # Time of The Event\n",
        "        e = self.y[:, 1]    # Indicator for occurrence of event\n",
        "        self.chf.fit(t, event_observed=e, timeline=self.timeline)\n",
        "        return self\n",
        "\n",
        "    def predict(self, x):\n",
        "        \"\"\"\n",
        "        Predict the cumulative hazard function if its a terminal node. If not walk through the tree.\n",
        "        :param x: The input sample.\n",
        "        :return: Predicted cumulative hazard function if terminal node\n",
        "        \"\"\"\n",
        "\n",
        "        # I am thinking of removing timeline argument from function compute_terminal_node\n",
        "        # and change here cumulative_hazard_at_time with the timeline argument\n",
        "        if self.terminal:\n",
        "            self.tree.chf = self.chf.cumulative_hazard_.to_numpy()\n",
        "            self.tree.chf = self.tree.chf[:, 0]\n",
        "            return self.tree.chf\n",
        "\n",
        "        else:\n",
        "            if x[self.split_var] <= self.split_val:\n",
        "                self.lhs.predict(x)\n",
        "            else:\n",
        "                self.rhs.predict(x)\n"
      ],
      "execution_count": 122,
      "outputs": []
    },
    {
      "cell_type": "markdown",
      "metadata": {
        "id": "HwGReYjS9SZr"
      },
      "source": [
        "## Functions for Splitting\n",
        "\n",
        "\n",
        "\n"
      ]
    },
    {
      "cell_type": "code",
      "metadata": {
        "id": "SriEVLjLprmh"
      },
      "source": [
        "def find_split(node):\n",
        "    \"\"\"\n",
        "    Find the best split for a Node.\n",
        "    :param node: Node to find best split for.\n",
        "    :return: score of best split, value of best split, variable to split, left indices, right indices.\n",
        "    \"\"\"\n",
        "    score_opt = -5000\n",
        "    split_val_opt = None\n",
        "    lhs_idxs_opt = None\n",
        "    rhs_idxs_opt = None\n",
        "    split_var_opt = None\n",
        "    for i in node.f_idxs:\n",
        "        #score, split_val, lhs_idxs, rhs_idxs = find_best_split_for_variable(node, i)\n",
        "        score, split_val, lhs_idxs, rhs_idxs = find_best_split_for_variable(node.x[:,i], node.y , node.min_leaf)\n",
        "        if score > score_opt:\n",
        "            score_opt = score\n",
        "            split_val_opt = split_val\n",
        "            lhs_idxs_opt = lhs_idxs\n",
        "            rhs_idxs_opt = rhs_idxs\n",
        "            split_var_opt = i\n",
        "\n",
        "    return score_opt, split_val_opt, split_var_opt, lhs_idxs_opt, rhs_idxs_opt\n",
        "\n",
        "# def find_best_split_for_variable(node, var_idx):\n",
        "def find_best_split_for_variable(x_var, y , min_leaf):\n",
        "    \"\"\"\n",
        "    Find best split for a variable of a Node. Best split for a variable is the split with the highest log rank\n",
        "    statistics. The logrank_test function of the lifelines package is used here.\n",
        "    :param node: Node\n",
        "    :param var_idx: Index of variable\n",
        "    :return: score, split value, left indices, right indices.\n",
        "    \"\"\"\n",
        "    # I am thiking of merging this and next function together (Later)\n",
        "    #score, split_val, lhs_idxs, rhs_idxs = logrank_statistics(x=node.x, y=node.y,feature=var_idx,min_leaf=node.min_leaf)\n",
        "    score, split_val, lhs_idxs, rhs_idxs = logrank_statistics(x_var, y,min_leaf)\n",
        "\n",
        "    return score, split_val, lhs_idxs, rhs_idxs\n",
        "\n",
        "# def logrank_statistics(x, y, feature, min_leaf):\n",
        "def logrank_statistics(x_var, y, min_leaf):\n",
        "    \"\"\"\n",
        "    Compute logrank_test of liflines package.\n",
        "    :param x: Input samples\n",
        "    :param y: Labels\n",
        "    :param feature: Feature index\n",
        "    :param min_leaf: Minimum number of leafs for each split.\n",
        "    :return: best score, best split value, left indices, right indices\n",
        "    \"\"\"\n",
        "    #x_feature = x[:, feature]\n",
        "    score_opt = -5000\n",
        "    split_val_opt = None\n",
        "    lhs_idxs = None\n",
        "    rhs_idxs = None\n",
        "    thresholds = np.unique(np.sort(x_var))\n",
        "\n",
        "    for split_val in thresholds:\n",
        "        #feature1 = x_feature <= split_va\n",
        "        feature1 = x_var <= split_val       #Creating an array of True , False which works as index\n",
        "        feature2 = ~feature1\n",
        "        if np.sum(feature1) < min_leaf or np.sum(feature2) < min_leaf:\n",
        "            continue\n",
        "        #durations_a = np.array(y[feature1, 0])\n",
        "        #event_observed_a = np.array(y[feature1, 1])\n",
        "        #durations_b = np.array(y[feature2, 0])\n",
        "        #event_observed_b = np.array(y[feature2, 1])\n",
        "        #score = logrank_test(durations_a, durations_b, event_observed_a, event_observed_b).test_statistic\n",
        "        score = logrank_test(y[feature1, 0],y[feature2, 0] ,y[feature1, 1] , y[feature2, 1]).test_statistic\n",
        "        if score > score_opt:\n",
        "            score_opt = round(score, 3)\n",
        "            split_val_opt = round(split_val, 3)\n",
        "            lhs_idxs = feature1\n",
        "            rhs_idxs = feature2\n",
        "\n",
        "    return score_opt, split_val_opt, lhs_idxs, rhs_idxs\n"
      ],
      "execution_count": 123,
      "outputs": []
    },
    {
      "cell_type": "markdown",
      "metadata": {
        "id": "5Fwwfx6IB3Ph"
      },
      "source": [
        "## Survival Tree"
      ]
    },
    {
      "cell_type": "code",
      "metadata": {
        "id": "cCPN9o1nCA-z"
      },
      "source": [
        "class SurvivalTree:\n",
        "\n",
        "    #def __init__(self, x, y, f_idxs,  unique_deaths=3, min_leaf=3, timeline=None):\n",
        "    def __init__(self, x, y,unique_deaths=3, min_leaf=3, timeline=None):\n",
        "        \"\"\"\n",
        "        A Survival Tree to predict survival.\n",
        "        :param x: The input samples. Should be a Dataframe with the shape [n_samples, n_features].\n",
        "        :param y: The target values as a Dataframe with the survival time in the first column and the event.\n",
        "        :param f_idxs: The indices of the features to use.\n",
        "        :param n_features: The number of features to use.\n",
        "        :param unique_deaths: The minimum number of unique deaths required to be at a leaf node.\n",
        "        :param min_leaf: The minimum number of samples required to be at a leaf node. A split point at any depth will\n",
        "        only be considered if it leaves at least min_leaf training samples in each of the left and right branches.\n",
        "        \"\"\"\n",
        "        self.x = x\n",
        "        self.y = y\n",
        "        #self.f_idxs = f_idxs\n",
        "        self.f_idxs = np.random.permutation(np.shape(x)[1])[np.arange(np.int(np.ceil(np.sqrt(np.shape(x)[1]))))]\n",
        "        #self.n_features = n_features\n",
        "        self.min_leaf = min_leaf\n",
        "        self.unique_deaths = unique_deaths\n",
        "        self.score = 0\n",
        "        self.index = 0\n",
        "        self.split_val = None\n",
        "        self.split_var = None\n",
        "        self.lhs = None\n",
        "        self.rhs = None\n",
        "        self.chf = None\n",
        "        self.prediction_possible = None\n",
        "        self.timeline = timeline\n",
        "        self.grow_tree()\n",
        "\n",
        "    def grow_tree(self):\n",
        "        \"\"\"\n",
        "        Grow the survival tree recursively as nodes.\n",
        "        :return: self\n",
        "        \"\"\"\n",
        "        #unique_deaths = self.y.iloc[:, 1].reset_index().drop_duplicates().sum()[1]\n",
        "        unique_deaths = np.sum(np.unique(self.y , axis = 0) , axis = 0)[1]\n",
        "\n",
        "        self.score, self.split_val, self.split_var, lhs_idxs_opt, rhs_idxs_opt = find_split(self)\n",
        "\n",
        "        if self.split_var is not None and unique_deaths > self.unique_deaths:\n",
        "            self.prediction_possible = True\n",
        "            number_of_cols     = np.shape(self.x)[1]\n",
        "            number_of_features = np.arange(np.int(np.ceil(np.sqrt(number_of_cols))))\n",
        "            lf_idxs = np.random.permutation(number_of_cols)[number_of_features]\n",
        "            rf_idxs = np.random.permutation(number_of_cols)[number_of_features]\n",
        "\n",
        "            self.lhs = Node(x=self.x[lhs_idxs_opt, :], y=self.y[lhs_idxs_opt, :],\n",
        "                            tree=self, f_idxs=lf_idxs,\n",
        "                            unique_deaths=self.unique_deaths, min_leaf=self.min_leaf,\n",
        "                            timeline=self.timeline)\n",
        "\n",
        "            self.rhs = Node(x=self.x[rhs_idxs_opt, :], y=self.y[rhs_idxs_opt, :],\n",
        "                            tree=self, f_idxs=rf_idxs,\n",
        "                            unique_deaths=self.unique_deaths, min_leaf=self.min_leaf,\n",
        "                            timeline=self.timeline)\n",
        "\n",
        "            return self\n",
        "        else:\n",
        "            self.prediction_possible = False\n",
        "            return self\n",
        "\n",
        "    def predict(self, x):\n",
        "        \"\"\"\n",
        "        Predict survival for x.\n",
        "        :param x: The input sample.\n",
        "        :return: The predicted cumulative hazard function.\n",
        "        \"\"\"\n",
        "        if x[self.split_var] <= self.split_val:\n",
        "            self.lhs.predict(x)\n",
        "        else:\n",
        "            self.rhs.predict(x)\n",
        "        return self.chf\n"
      ],
      "execution_count": 124,
      "outputs": []
    },
    {
      "cell_type": "markdown",
      "metadata": {
        "id": "-KGyiYIbFni8"
      },
      "source": [
        "## Random Survival Forest"
      ]
    },
    {
      "cell_type": "code",
      "metadata": {
        "id": "Ybas6kwYFmvi"
      },
      "source": [
        "class RandomSurvivalForest:\n",
        "\n",
        "    def __init__(self, n_estimators=100, min_leaf=3, unique_deaths=3,\n",
        "                 n_jobs=None, parallelization_backend=\"multiprocessing\", oob_score=False):\n",
        "        \"\"\"\n",
        "        A Random Survival Forest is a prediction model especially designed for survival analysis.\n",
        "        :param n_estimators: The numbers of trees in the forest.\n",
        "        :param min_leaf: The minimum number of samples required to be at a leaf node. A split point at any depth will\n",
        "        only be considered if it leaves at least min_leaf training samples in each of the left and right branches.\n",
        "        :param unique_deaths: The minimum number of unique deaths required to be at a leaf node.\n",
        "        :param n_jobs: The number of jobs to run in parallel for fit. None means 1.\n",
        "        \"\"\"\n",
        "        self.n_estimators = n_estimators\n",
        "        self.min_leaf = min_leaf\n",
        "        self.unique_deaths = unique_deaths\n",
        "        self.n_jobs = n_jobs\n",
        "        self.parallelization_backend = parallelization_backend\n",
        "        self.bootstrap_idxs = None\n",
        "        self.bootstraps = []\n",
        "        self.oob_idxs = None\n",
        "        self.oob_score = oob_score\n",
        "        self.trees = []\n",
        "        self.timeline = None\n",
        "\n",
        "    def fit(self, x, y):\n",
        "        \"\"\"\n",
        "        Build a forest of trees from the training set (X, y).\n",
        "        :param x: The input samples. Should be a Dataframe with the shape [n_samples, n_features].\n",
        "        :param y: The target values as a Dataframe with the survival time in the first column and the event\n",
        "        in the second with the shape [n_samples, 2]\n",
        "        :return: self: object\n",
        "        \"\"\"\n",
        "        # Check The Timeline Argument Once Again\n",
        "        self.timeline =  np.sort(y[:,0])  #np.arange(y[:, 0].min(), y[:, 0].max(), 1)\n",
        "        if self.n_jobs == -1:\n",
        "            self.n_jobs = multiprocessing.cpu_count()\n",
        "        elif self.n_jobs is None:\n",
        "            self.n_jobs = 1\n",
        "        self.bootstrap_idxs = self.draw_bootstrap_samples(x)\n",
        "\n",
        "        trees = Parallel(n_jobs=self.n_jobs, backend=self.parallelization_backend)(delayed(self.create_tree)(x, y, i)\n",
        "                                                                                   for i in range(self.n_estimators))\n",
        "\n",
        "        for i in range(len(trees)):\n",
        "            if trees[i].prediction_possible:\n",
        "                self.trees.append(trees[i])\n",
        "                self.bootstraps.append(self.bootstrap_idxs[i])\n",
        "\n",
        "        if self.oob_score:\n",
        "            self.oob_score = self.compute_oob_score(x, y)\n",
        "\n",
        "        return self\n",
        "\n",
        "    def create_tree(self, x, y, i):\n",
        "        \"\"\"\n",
        "        Grows a survival tree for the bootstrap samples.\n",
        "        :param y: label data frame y with survival time as the first column and event as second\n",
        "        :param x: feature data frame x\n",
        "        :param i: Indices\n",
        "        :return: SurvivalTree\n",
        "        \"\"\"\n",
        "        #n_features = int(round(np.sqrt(x.shape[1]), 0))\n",
        "        #f_idxs = np.random.permutation(x.shape[1])[:n_features]\n",
        "        #number_of_cols = np.shape(x)[1]\n",
        "        #number_of_features = np.arange(np.int(np.ceil(np.sqrt(number_of_cols))))\n",
        "        #f_idxs = np.random.permutation(number_of_cols)[number_of_features]\n",
        "\n",
        "        tree = SurvivalTree(x=x[self.bootstrap_idxs[i], :], y=y[self.bootstrap_idxs[i], :],\n",
        "                                unique_deaths=self.unique_deaths, min_leaf=self.min_leaf,\n",
        "                                timeline=self.timeline)\n",
        "\n",
        "        return tree\n",
        "\n",
        "    def compute_oob_ensembles(self, xs):\n",
        "        \"\"\"\n",
        "        Compute OOB ensembles.\n",
        "        :return: List of oob ensemble for each sample.\n",
        "        \"\"\"\n",
        "        results = [compute_oob_ensemble_chf(sample_idx=sample_idx, xs=xs, trees=self.trees,\n",
        "                                            bootstraps=self.bootstraps) for sample_idx in range(xs.shape[0])]\n",
        "        oob_ensemble_chfs = [i for i in results if not (i.size ==0)]\n",
        "        return oob_ensemble_chfs\n",
        "\n",
        "    def compute_oob_score(self, x, y):\n",
        "        \"\"\"\n",
        "        Compute the oob score (concordance-index).\n",
        "        :return: c-index of oob samples\n",
        "        \"\"\"\n",
        "        oob_ensembles = self.compute_oob_ensembles(x)\n",
        "        c = concordance_index(y_time=y[:, 0], y_pred=oob_ensembles, y_event=y[:, 1])\n",
        "        return c\n",
        "\n",
        "    def predict(self, xs):\n",
        "        \"\"\"\n",
        "        Predict survival for xs.\n",
        "        :param xs: The input samples\n",
        "        :return: List of the predicted cumulative hazard functions.\n",
        "        \"\"\"\n",
        "        ensemble_chfs = [compute_ensemble_chf(sample_idx=sample_idx, xs=xs, trees=self.trees)\n",
        "                         for sample_idx in range(xs.shape[0])]\n",
        "        return ensemble_chfs\n",
        "\n",
        "    def draw_bootstrap_samples(self, data):\n",
        "        \"\"\"\n",
        "        Draw bootstrap samples\n",
        "        :param data: Data to draw bootstrap samples of.\n",
        "        :return: Bootstrap indices for each of the trees\n",
        "        \"\"\"\n",
        "        bootstrap_idxs = []\n",
        "        for i in range(self.n_estimators):\n",
        "            no_samples = len(data)\n",
        "            data_rows = range(no_samples)\n",
        "            bootstrap_idx = np.random.choice(data_rows, no_samples)\n",
        "            bootstrap_idxs.append(bootstrap_idx)\n",
        "\n",
        "        return bootstrap_idxs\n",
        "\n",
        "\n",
        "def compute_ensemble_chf(sample_idx, xs, trees):\n",
        "    denominator = 0\n",
        "    numerator = 0\n",
        "    for b in range(len(trees)):\n",
        "        sample = xs[sample_idx]\n",
        "        chf = trees[b].predict(sample)\n",
        "        denominator = denominator + 1\n",
        "        numerator = numerator + 1 * chf\n",
        "    ensemble_chf = numerator / denominator\n",
        "    return ensemble_chf\n",
        "\n",
        "\n",
        "def compute_oob_ensemble_chf(sample_idx, xs, trees, bootstraps):\n",
        "    denominator = 0\n",
        "    numerator = 0\n",
        "    for b in range(len(trees)):\n",
        "        if sample_idx not in bootstraps[b]:\n",
        "            sample = xs[sample_idx]\n",
        "            chf = trees[b].predict(sample)\n",
        "            denominator = denominator + 1\n",
        "            numerator = numerator + 1 * chf\n",
        "    if denominator != 0:\n",
        "        oob_ensemble_chf = numerator / denominator\n",
        "    else:\n",
        "        oob_ensemble_chf = pd.Series()\n",
        "    return oob_ensemble_chf\n"
      ],
      "execution_count": 125,
      "outputs": []
    },
    {
      "cell_type": "markdown",
      "metadata": {
        "id": "vAKWe3MYIz6I"
      },
      "source": [
        "## Scoring"
      ]
    },
    {
      "cell_type": "code",
      "metadata": {
        "id": "BqFK0I-XsWT0"
      },
      "source": [
        "def concordance_index(y_time, y_pred, y_event):\n",
        "    \"\"\"\n",
        "    Compute concordance index.\n",
        "    :param y_time: Actual Survival Times.\n",
        "    :param y_pred: Predicted cumulative hazard functions.\n",
        "    :param y_event: Actual Survival Events.\n",
        "    :return: c-index.\n",
        "    \"\"\"\n",
        "    predicted_outcome = [x.sum() for x in y_pred]\n",
        "    possible_pairs = (combinations(range(len(y_pred)), 2))\n",
        "    concordance = 0\n",
        "    permissible = 0\n",
        "    for i,j in possible_pairs:\n",
        "        t1 = y_time[i]\n",
        "        t2 = y_time[j]\n",
        "        e1 = y_event[i]\n",
        "        e2 = y_event[j]\n",
        "        predicted_outcome_1 = predicted_outcome[i]\n",
        "        predicted_outcome_2 = predicted_outcome[j]\n",
        "\n",
        "        shorter_survival_time_censored = (t1 < t2 and e1 == 0) or (t2 < t1 and e2 == 0)\n",
        "        t1_equals_t2_and_no_death = (t1 == t2 and (e1 == 0 and e2 == 0))\n",
        "\n",
        "        if shorter_survival_time_censored or t1_equals_t2_and_no_death:\n",
        "            continue\n",
        "        else:\n",
        "            permissible = permissible + 1\n",
        "            if t1 != t2:\n",
        "                if t1 < t2:\n",
        "                    if predicted_outcome_1 > predicted_outcome_2:\n",
        "                        concordance = concordance + 1\n",
        "                        continue\n",
        "                    elif predicted_outcome_1 == predicted_outcome_2:\n",
        "                        concordance = concordance + 0.5\n",
        "                        continue\n",
        "                elif t2 < t1:\n",
        "                    if predicted_outcome_2 > predicted_outcome_1:\n",
        "                        concordance = concordance + 1\n",
        "                        continue\n",
        "                    elif predicted_outcome_2 == predicted_outcome_1:\n",
        "                        concordance = concordance + 0.5\n",
        "                        continue\n",
        "            elif t1 == t2:\n",
        "                if e1 == 1 and e2 == 1:\n",
        "                    if predicted_outcome_1 == predicted_outcome_2:\n",
        "                        concordance = concordance + 1\n",
        "                        continue\n",
        "                    else:\n",
        "                        concordance = concordance + 0.5\n",
        "                        continue\n",
        "                elif not (e1 == 1 and e2 == 1):\n",
        "                    if e1 == 1 and predicted_outcome_1 > predicted_outcome_2:\n",
        "                        concordance = concordance + 1\n",
        "                        continue\n",
        "                    elif e2 == 1 and predicted_outcome_2 > predicted_outcome_1:\n",
        "                        concordance = concordance + 1\n",
        "                        continue\n",
        "                    else:\n",
        "                        concordance = concordance + 0.5\n",
        "                        continue\n",
        "\n",
        "    c = concordance / permissible\n",
        "\n",
        "    return c\n"
      ],
      "execution_count": 126,
      "outputs": []
    },
    {
      "cell_type": "code",
      "metadata": {
        "id": "W3VvSPTFsfJr"
      },
      "source": [
        "veteran = pd.read_csv(\"veteran (1).csv\")"
      ],
      "execution_count": 127,
      "outputs": []
    },
    {
      "cell_type": "code",
      "metadata": {
        "id": "c42YTedEssPt"
      },
      "source": [
        "y = veteran.loc[:, [\"time\",\"status\"]].to_numpy()\n",
        "X = veteran.drop([\"time\",\"status\"], axis=1).to_numpy()"
      ],
      "execution_count": 128,
      "outputs": []
    },
    {
      "cell_type": "code",
      "metadata": {
        "id": "yNihe5D3tTJv"
      },
      "source": [
        "rsf = RandomSurvivalForest(n_estimators=10,min_leaf = 15,oob_score = True)"
      ],
      "execution_count": 129,
      "outputs": []
    },
    {
      "cell_type": "code",
      "metadata": {
        "colab": {
          "base_uri": "https://localhost:8080/"
        },
        "id": "G8Bmx0MtucN0",
        "outputId": "9e616d40-6ee7-4fcb-e70d-2684e390cab9"
      },
      "source": [
        "rsf.fit(X, y)\n"
      ],
      "execution_count": 133,
      "outputs": [
        {
          "output_type": "execute_result",
          "data": {
            "text/plain": [
              "<__main__.RandomSurvivalForest at 0x7fad438c7cd0>"
            ]
          },
          "metadata": {
            "tags": []
          },
          "execution_count": 133
        }
      ]
    },
    {
      "cell_type": "code",
      "metadata": {
        "colab": {
          "base_uri": "https://localhost:8080/"
        },
        "id": "b5s8LofJvuRR",
        "outputId": "50a4861a-e275-46ca-b6b1-f3bb930eca3e"
      },
      "source": [
        "rsf.oob_score"
      ],
      "execution_count": 134,
      "outputs": [
        {
          "output_type": "execute_result",
          "data": {
            "text/plain": [
              "0.6700214859210675"
            ]
          },
          "metadata": {
            "tags": []
          },
          "execution_count": 134
        }
      ]
    },
    {
      "cell_type": "code",
      "metadata": {
        "colab": {
          "base_uri": "https://localhost:8080/"
        },
        "id": "PkHSsrxKKfxM",
        "outputId": "d3f5bd06-6cf9-4536-a2a8-7a13e0d23312"
      },
      "source": [
        "np.int(5.4)"
      ],
      "execution_count": 85,
      "outputs": [
        {
          "output_type": "execute_result",
          "data": {
            "text/plain": [
              "5"
            ]
          },
          "metadata": {
            "tags": []
          },
          "execution_count": 85
        }
      ]
    },
    {
      "cell_type": "code",
      "metadata": {
        "id": "3ICTaH_iLbQ9"
      },
      "source": [
        "class M:\n",
        "  def __init__(self):\n",
        "    self.a = 5\n",
        "    self.set_b()\n",
        "\n",
        "  def set_b(self):\n",
        "    self.b = 6"
      ],
      "execution_count": 66,
      "outputs": []
    },
    {
      "cell_type": "code",
      "metadata": {
        "id": "0tzcG4-SK4BK"
      },
      "source": [
        "a = M()"
      ],
      "execution_count": 67,
      "outputs": []
    },
    {
      "cell_type": "code",
      "metadata": {
        "colab": {
          "base_uri": "https://localhost:8080/"
        },
        "id": "SZS-0GAsK5al",
        "outputId": "bec29c75-be99-4161-ee86-13553556e423"
      },
      "source": [
        "a.b"
      ],
      "execution_count": 68,
      "outputs": [
        {
          "output_type": "execute_result",
          "data": {
            "text/plain": [
              "6"
            ]
          },
          "metadata": {
            "tags": []
          },
          "execution_count": 68
        }
      ]
    },
    {
      "cell_type": "code",
      "metadata": {
        "id": "s5V_drtKK6zv"
      },
      "source": [
        ""
      ],
      "execution_count": null,
      "outputs": []
    }
  ]
}